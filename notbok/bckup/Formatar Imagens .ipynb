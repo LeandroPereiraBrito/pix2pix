{
 "cells": [
  {
   "cell_type": "code",
   "execution_count": 1,
   "id": "fa54ed0f",
   "metadata": {},
   "outputs": [],
   "source": [
    "import cv2\n",
    "import os\n",
    "from PIL import Image\n",
    "import numpy as np"
   ]
  },
  {
   "cell_type": "code",
   "execution_count": 2,
   "id": "2d8648a1",
   "metadata": {},
   "outputs": [],
   "source": [
    "# ========================================\n",
    "# Funçãos de apoio abrir imagens imagens\n",
    "# ========================================\n",
    "def openImage(path):\n",
    "    try:\n",
    "        imagem = cv2.imread(path)\n",
    "    except:\n",
    "        imgPill = Image.open(path)\n",
    "        imagem = np.asarray(imgPill)\n",
    "    if imagem is not None:\n",
    "        return cv2.cvtColor(imagem, cv2.COLOR_BGR2GRAY)\n",
    "    else:\n",
    "        return None"
   ]
  },
  {
   "cell_type": "code",
   "execution_count": 3,
   "id": "54412d93",
   "metadata": {},
   "outputs": [],
   "source": [
    "# ========================================\n",
    "# Salvar Imagem\n",
    "# ========================================\n",
    "def salvarImagem(destino, imagem):\n",
    "    try:\n",
    "        try:\n",
    "            cv2.imwrite(destino, imagem)\n",
    "        except:\n",
    "            img = Image.fromarray(imagem)\n",
    "            img.save(destino)\n",
    "    except BaseException as e:\n",
    "        print(e)"
   ]
  },
  {
   "cell_type": "code",
   "execution_count": 4,
   "id": "feb8ba26",
   "metadata": {},
   "outputs": [],
   "source": [
    "# ==================================================\n",
    "# Gerar lista com todos os arquivos\n",
    "# ==================================================\n",
    "def getFiles(dir):\n",
    "    listFiles = []\n",
    "    for currentFolder, subFolder, files in os.walk(dir):\n",
    "        for file in files:\n",
    "            arquivo = \"{}\\{}\".format(dir, file)\n",
    "            if os.path.exists(arquivo) and arquivo not in listFiles:\n",
    "                listFiles.append((arquivo, file))\n",
    "    return listFiles"
   ]
  },
  {
   "cell_type": "code",
   "execution_count": 10,
   "id": "e8341ac5",
   "metadata": {},
   "outputs": [],
   "source": [
    "# ajustar imagens para o formato png\n",
    "PATH = '../' \n",
    "listpasta = [\"train\",\"test\",\"val\"] \n",
    "for pasta in listpasta: \n",
    "    caminho  = \"{}{}/\".format(PATH,pasta)\n",
    "    listFiles = getFiles(caminho)\n",
    "    \n",
    "    for file in listFiles:\n",
    "        __, name = file \n",
    "        new =  \"{}{}\".format(caminho,name)\n",
    "        img = openImage(new)\n",
    "        if img is not None:\n",
    "            nm = name.split(\".\")\n",
    "            destino = \"{}{}.jpg\".format(caminho,nm[0])\n",
    "            salvarImagem(destino, img)\n",
    "        #os.remove(new)\n",
    "        \n",
    "            \n",
    "    "
   ]
  },
  {
   "cell_type": "code",
   "execution_count": null,
   "id": "05d94831",
   "metadata": {},
   "outputs": [],
   "source": []
  }
 ],
 "metadata": {
  "kernelspec": {
   "display_name": "Python 3 (ipykernel)",
   "language": "python",
   "name": "python3"
  },
  "language_info": {
   "codemirror_mode": {
    "name": "ipython",
    "version": 3
   },
   "file_extension": ".py",
   "mimetype": "text/x-python",
   "name": "python",
   "nbconvert_exporter": "python",
   "pygments_lexer": "ipython3",
   "version": "3.9.13"
  }
 },
 "nbformat": 4,
 "nbformat_minor": 5
}
